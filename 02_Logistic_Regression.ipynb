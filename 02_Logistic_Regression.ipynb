{
  "nbformat": 4,
  "nbformat_minor": 0,
  "metadata": {
    "colab": {
      "name": "02 Logistic Regression.ipynb",
      "provenance": [],
      "authorship_tag": "ABX9TyNj+ThV7VM7XVHj8l8mFJa0",
      "include_colab_link": true
    },
    "kernelspec": {
      "name": "python3",
      "display_name": "Python 3"
    },
    "language_info": {
      "name": "python"
    },
    "accelerator": "GPU"
  },
  "cells": [
    {
      "cell_type": "markdown",
      "metadata": {
        "id": "view-in-github",
        "colab_type": "text"
      },
      "source": [
        "<a href=\"https://colab.research.google.com/github/jemoce/DL-with-PyTorch/blob/main/02_Logistic_Regression.ipynb\" target=\"_parent\"><img src=\"https://colab.research.google.com/assets/colab-badge.svg\" alt=\"Open In Colab\"/></a>"
      ]
    },
    {
      "cell_type": "code",
      "execution_count": 13,
      "metadata": {
        "id": "NKZ1SnJEUGy9"
      },
      "outputs": [],
      "source": [
        "from typing import Callable\n",
        "from datetime import datetime\n",
        "import numpy as np\n",
        "from sklearn.datasets import make_moons\n",
        "from sklearn.model_selection import train_test_split\n",
        "from sklearn.preprocessing import StandardScaler\n",
        "from sklearn.metrics import (confusion_matrix, recall_score, precision_score, \n",
        "                             accuracy_score, roc_curve, precision_recall_curve, \n",
        "                             auc)\n",
        "import matplotlib.pyplot as plt\n",
        "\n",
        "import torch\n",
        "import torch.nn as nn\n",
        "import torch.optim as optim\n",
        "from torch.utils.data import DataLoader, TensorDataset, random_split\n",
        "from torch.utils.tensorboard.writer import SummaryWriter\n",
        "\n",
        "%matplotlib inline"
      ]
    },
    {
      "cell_type": "code",
      "source": [
        "class LogisticRegressor():\n",
        "  def __init__(self, model: nn.Module, optim: optim.Optimizer, \n",
        "               loss_fn: Callable) -> None:\n",
        "    \"\"\"\n",
        "    Args:\n",
        "    model (nn.Module): model to use during the training and to make predictions.\n",
        "    optim (optim.Optimizer): optimizer to optimize the model during training.\n",
        "    loss_fn (Callable): function to calculate model´s losses.\n",
        "\n",
        "    Returns: None\n",
        "    \"\"\"\n",
        "    self.device = 'cuda' if torch.cuda.is_available() else 'cpu'\n",
        "\n",
        "    # Model, optimizer and loss function\n",
        "    self.model = model.to(self.device)\n",
        "    self.optim = optim\n",
        "    self.loss_fn = loss_fn\n",
        "\n",
        "    # Data\n",
        "    self.train_dl: DataLoader = None\n",
        "    self.val_dl: DataLoader = None\n",
        "\n",
        "    # Training functions\n",
        "    self.train_step = self._make_train_step()\n",
        "    self.val_step = self._make_val_step()\n",
        "\n",
        "    # Epoch and losses\n",
        "    self.act_epoch = 0\n",
        "    self.train_losses = []\n",
        "    self.val_losses = []\n",
        "\n",
        "    # Tensorboard\n",
        "    self.writer = None\n",
        "\n",
        "  def set_dataloaders(self, train: DataLoader, \n",
        "                      validation: DataLoader=None) -> None:\n",
        "    \"\"\"\n",
        "    Assign the training and validation (optional) to train the model. \n",
        "    Args:\n",
        "    train (DataLoader): DataLoader with the training data.\n",
        "    validation (DataLoader): DataLoader with validation data. If not proviced\n",
        "      the system will not validate the model during training.\n",
        "\n",
        "    Returns: None.\n",
        "    \"\"\"\n",
        "    self.train_dl = train\n",
        "    self.val_dl = validation\n",
        "\n",
        "  def _make_train_step(self) -> Callable:\n",
        "    \"\"\"\n",
        "    Returns the function used for training the model.\n",
        "\n",
        "    Returns: Callable function.\n",
        "    \"\"\"\n",
        "    def step(x: torch.Tensor, y: torch.Tensor) -> float:\n",
        "      \"\"\"\n",
        "      Trains the model with x (inputs) and y (labels) data.\n",
        "\n",
        "      Returns: training loss.\n",
        "      \"\"\"\n",
        "      self.model.train()\n",
        "      y_hat = self.model(x)\n",
        "      loss = self.loss_fn(y_hat, y)\n",
        "      loss.backward()\n",
        "      self.optim.step()\n",
        "      self.optim.zero_grad()\n",
        "      return loss.item()\n",
        "    return step\n",
        "\n",
        "  def _make_val_step(self) -> Callable:\n",
        "    \"\"\"\n",
        "    Returns the function used to validate the model.\n",
        "\n",
        "    Returns: Callable function.\n",
        "    \"\"\"\n",
        "    def step(x: torch.Tensor, y: torch.Tensor) -> float:\n",
        "      \"\"\"\n",
        "      Evaluates the model and returns the loss of the model.\n",
        "\n",
        "      Returns: evaluation loss.\n",
        "      \"\"\"\n",
        "      self.model.eval()\n",
        "      y_hat = self.model(x)\n",
        "      loss = self.loss_fn(y_hat, y)\n",
        "      return loss.item()\n",
        "    return step    \n",
        "\n",
        "  def _mini_batch_step(self, validation: bool = False) -> float:\n",
        "    \"\"\"\n",
        "    Performs the training or validation (depending on validation input variable)\n",
        "    of the model and returns the loss of the step.\n",
        "    Args:\n",
        "    validation (bool): True to use validation data. False to use training data.\n",
        "\n",
        "    Returns: loss.\n",
        "    \"\"\"\n",
        "    step = self.val_step if validation else self.train_step\n",
        "    data_loader = self.val_dl if validation else self.train_dl\n",
        "    if data_loader is None:\n",
        "      return None\n",
        "\n",
        "    losses = []\n",
        "    for x, y in data_loader:\n",
        "      x = x.to(self.device)\n",
        "      y = y.to(self.device)\n",
        "\n",
        "      loss = step(x,y)\n",
        "      losses.append(loss)\n",
        "\n",
        "    return np.mean(losses)\n",
        "\n",
        "  def set_seed(self, n=42) -> None:\n",
        "    \"\"\"\n",
        "    Sets the seed for random numbers.\n",
        "    Args:\n",
        "    n: seed.\n",
        "\n",
        "    Returns: None.\n",
        "    \"\"\"\n",
        "    torch.backends.cudnn.deterministic = True\n",
        "    torch.backends.cudnn.benchmark = True\n",
        "    torch.manual_seed(n)\n",
        "    np.random.seed(n)\n",
        "\n",
        "  def train(self, epochs: int) -> None:\n",
        "    \"\"\"\n",
        "    Train the model.\n",
        "    Args:\n",
        "    epochs (int): number of epochs to train the model.\n",
        "\n",
        "    Returns: None.\n",
        "    \"\"\"\n",
        "    self.model.train()\n",
        "    self.set_seed()\n",
        "    for epoch in range(epochs):\n",
        "      train_loss = self._mini_batch_step()\n",
        "      self.train_losses.append(train_loss)\n",
        "\n",
        "      with torch.no_grad():\n",
        "        val_loss = self._mini_batch_step(validation=True)\n",
        "        self.val_losses.append(val_loss)\n",
        "\n",
        "      if self.writer:\n",
        "        scalars = {'Train':train_loss}\n",
        "        if val_loss is not None:\n",
        "          scalars['Validation'] = val_loss\n",
        "        self.writer.add_scalars(main_tag='loss',\n",
        "                                tag_scalar_dict=scalars,\n",
        "                                global_step=self.act_epoch)\n",
        "      \n",
        "      self.act_epoch += 1\n",
        "\n",
        "    if self.writer:\n",
        "      self.writer.flush()\n",
        "\n",
        "    self.model.eval()\n",
        "\n",
        "  def plot_losses(self) -> None:\n",
        "    \"\"\"\n",
        "    Plots the losses of the model. If validation dataloader was previously \n",
        "    assigned using set_dataloaders method then the plot will contain validation\n",
        "    losses.\n",
        "\n",
        "    Returns: None.\n",
        "    \"\"\"\n",
        "    fig = plt.figure(figsize=(10,3))\n",
        "    plt.plot(self.train_losses, 'b', label='Training')\n",
        "    if self.val_dl:\n",
        "      plt.plot(self.val_losses, 'r', label='Validation')\n",
        "    plt.yscale('log')\n",
        "    plt.xlabel('Epoch')\n",
        "    plt.ylabel('Loss')\n",
        "    plt.legend()\n",
        "\n",
        "  def predict(self, x: np.array) -> np.array:\n",
        "    \"\"\"\n",
        "    Returns the predictions of the model on x data.\n",
        "    Args:\n",
        "    x (array): input to the model.\n",
        "\n",
        "    Returns: numpy array with the predictions.\n",
        "    \"\"\"\n",
        "    self.model.eval()\n",
        "    data = torch.as_tensor(x).float()\n",
        "    predicted = self.model(data.to(self.device))\n",
        "    return predicted.detach().cpu().numpy()\n",
        "\n",
        "  def set_tensorboard(self, name: str, folder: str='logs') -> None:\n",
        "    \"\"\"\n",
        "    Sets the folder and data´s name for the tensorboard board to show the \n",
        "    losses during the training. To load tensorboard in a notebook use\n",
        "    %tensorboard --logdir logs.\n",
        "    Args:\n",
        "    name (str): preffix of the files where the data will be saved.\n",
        "    folder (str): name of the folder where the files will be saved.\n",
        "\n",
        "    Returns: None.\n",
        "    \"\"\"\n",
        "    suffix = datetime.now().strftime('%Y%m%d%H%M%S')\n",
        "    self.writer = SummaryWriter(log_dir=f'{folder}/{name}_{suffix}')\n",
        "\n",
        "  def add_graph(self) -> None:\n",
        "    \"\"\"\n",
        "    Adds the graph to the tensorboard. The tensorboards has to be already \n",
        "    configured using set_tensorboard.\n",
        "\n",
        "    Returns: None.\n",
        "    \"\"\"\n",
        "    if self.train_dl and self.writer:\n",
        "      x,_ = next(iter(self.train_dl))\n",
        "      self.writer.add_graph(self.model, x.to(self.device))\n",
        "\n",
        "  def save_checkpoint(self, filename: str) -> None:\n",
        "    \"\"\"\n",
        "    Saves the state of the model to a file.\n",
        "    Args:\n",
        "    filename (str): name of the file where the data will be saved.\n",
        "\n",
        "    Returns: None.\n",
        "    \"\"\"\n",
        "    checkpoint = {\n",
        "        'model_state': self.model.state_dict(),\n",
        "        'optimizer_state': self.optim.state_dict(),\n",
        "        'epoch': self.act_epoch,\n",
        "        'train_losses': self.train_losses,\n",
        "        'val_losses': self.val_losses\n",
        "    }\n",
        "    torch.save(checkpoint, filename)\n",
        "\n",
        "  def load_checkpoint(self, filename: str) -> None:\n",
        "    \"\"\"\n",
        "    Loads the state of the model from a file.\n",
        "    Args:\n",
        "    filename (str): name of the file where the data is saved.\n",
        "\n",
        "    Returns: None\n",
        "    \"\"\"\n",
        "    checkpoint = torch.load(filename)\n",
        "    self.model.load_state_dict(checkpoint['model_state'])\n",
        "    self.optim.load_state_dict(checkpoint['optimizer_state'])\n",
        "    self.act_epoch = checkpoint['epoch']\n",
        "    self.train_losses = checkpoint['train_losses']\n",
        "    self.val_losses = checkpoint['val_losses']"
      ],
      "metadata": {
        "id": "qtM-dgpeWOW8"
      },
      "execution_count": 14,
      "outputs": []
    },
    {
      "cell_type": "code",
      "source": [
        "torch.manual_seed(42)\n",
        "\n",
        "model = nn.Sequential()\n",
        "model.add_module('linear', nn.Linear(2, 1))\n",
        "model.add_module('sigmoid', nn.Sigmoid())\n",
        "\n",
        "model_b = nn.Linear(2, 1)\n",
        "\n",
        "optimizer = optim.SGD(model.parameters(), lr=0.1)\n",
        "optimizer_b = optim.SGD(model_b.parameters(), lr=0.1)\n",
        "\n",
        "loss_fn = nn.BCELoss()\n",
        "loss_fn_b = nn.BCEWithLogitsLoss()\n",
        "\n",
        "lreg = LogisticRegressor(model, optimizer, loss_fn)\n",
        "lreg_b = LogisticRegressor(model_b, optimizer_b, loss_fn_b)\n",
        "\n",
        "lreg.set_seed()\n",
        "lreg_b.set_seed()"
      ],
      "metadata": {
        "id": "DPH8CB6Kl3Qj"
      },
      "execution_count": 15,
      "outputs": []
    },
    {
      "cell_type": "code",
      "source": [
        "x_np, y_np = make_moons(500, shuffle=True, noise=0.1)\n",
        "\n",
        "plt.scatter(x_np[y_np==0, 0], x_np[y_np==0, 1], color='darkblue')\n",
        "plt.scatter(x_np[y_np==1, 0], x_np[y_np==1, 1], color='darkred')\n",
        "plt.show()"
      ],
      "metadata": {
        "colab": {
          "base_uri": "https://localhost:8080/",
          "height": 265
        },
        "id": "8ug8cioSUmbU",
        "outputId": "77d6415d-281f-47cd-8306-01328186d67a"
      },
      "execution_count": 16,
      "outputs": [
        {
          "output_type": "display_data",
          "data": {
            "text/plain": [
              "<Figure size 432x288 with 1 Axes>"
            ],
            "image/png": "[encoded data removed]"
          },
          "metadata": {
            "needs_background": "light"
          }
        }
      ]
    },
    {
      "cell_type": "code",
      "source": [
        "x_train, x_val, y_train, y_val = train_test_split(x_np, y_np,\n",
        "                                                  test_size=0.2, \n",
        "                                                  random_state=42)\n",
        "scaler = StandardScaler()\n",
        "scaler.fit(x_train)\n",
        "x_val = scaler.transform(x_val)\n",
        "\n",
        "x_train_tensor = torch.as_tensor(x_train).float()\n",
        "y_train_tensor = torch.as_tensor(y_train.reshape((-1, 1))).float()\n",
        "x_val_tensor = torch.as_tensor(x_val).float()\n",
        "y_val_tensor = torch.as_tensor(y_val.reshape((-1, 1))).float()\n",
        "\n",
        "train_ds = TensorDataset(x_train_tensor, y_train_tensor)\n",
        "val_ds = TensorDataset(x_val_tensor, y_val_tensor)\n",
        "\n",
        "train_dl = DataLoader(train_ds, batch_size=32, shuffle=True)\n",
        "val_dl = DataLoader(val_ds, batch_size=32)\n",
        "\n",
        "lreg.set_dataloaders(train_dl, val_dl)\n",
        "lreg_b.set_dataloaders(train_dl, val_dl)"
      ],
      "metadata": {
        "id": "OZ0ecDwLj3uA"
      },
      "execution_count": null,
      "outputs": []
    },
    {
      "cell_type": "code",
      "source": [
        "lreg.train(200)\n",
        "lreg_b.train(200)"
      ],
      "metadata": {
        "id": "JtSx4h-NBwI5"
      },
      "execution_count": null,
      "outputs": []
    },
    {
      "cell_type": "code",
      "source": [
        "lreg.plot_losses()"
      ],
      "metadata": {
        "colab": {
          "base_uri": "https://localhost:8080/",
          "height": 225
        },
        "id": "baABy1W5B5jv",
        "outputId": "da052093-9864-4397-ed23-fc18e88ab5dc"
      },
      "execution_count": null,
      "outputs": [
        {
          "output_type": "display_data",
          "data": {
            "text/plain": [
              "<Figure size 720x216 with 1 Axes>"
            ],
            "image/png": "[encoded data removed]"
          },
          "metadata": {
            "needs_background": "light"
          }
        }
      ]
    },
    {
      "cell_type": "code",
      "source": [
        "lreg_b.plot_losses()"
      ],
      "metadata": {
        "colab": {
          "base_uri": "https://localhost:8080/",
          "height": 225
        },
        "id": "L_MH2hNKCOWB",
        "outputId": "06e18ad8-1c57-45c0-c93a-be6a6d0ef8a5"
      },
      "execution_count": null,
      "outputs": [
        {
          "output_type": "display_data",
          "data": {
            "text/plain": [
              "<Figure size 720x216 with 1 Axes>"
            ],
            "image/png": "[encoded data removed]"
          },
          "metadata": {
            "needs_background": "light"
          }
        }
      ]
    },
    {
      "cell_type": "code",
      "source": [
        "model_probs = lreg.predict(x_val).reshape(-1)\n",
        "\n",
        "model_b_logits = lreg_b.predict(x_val)\n",
        "model_b_probs = torch.sigmoid(torch.as_tensor(model_b_logits).float())\n",
        "model_b_probs = model_b_probs.numpy().reshape(-1)"
      ],
      "metadata": {
        "id": "CI7h66muCPvJ"
      },
      "execution_count": null,
      "outputs": []
    },
    {
      "cell_type": "code",
      "source": [
        "true_obs = x_val[model_probs >= 0.5]\n",
        "false_obs = x_val[model_probs < 0.5]\n",
        "\n",
        "figure, axis = plt.subplots(1, 2, figsize=(12,6))\n",
        "axis[0].scatter(true_obs[:, 0], true_obs[:, 1], color='darkblue')\n",
        "axis[0].scatter(false_obs[:, 0], false_obs[:, 1], color='darkred')\n",
        "axis[0].set_title('With Sigmoid')\n",
        "\n",
        "true_obs = x_val[model_b_probs >= 0.5]\n",
        "false_obs = x_val[model_b_probs < 0.5]\n",
        "\n",
        "axis[1].scatter(true_obs[:, 0], true_obs[:, 1], color='darkblue')\n",
        "axis[1].scatter(false_obs[:, 0], false_obs[:, 1], color='darkred')\n",
        "axis[1].set_title('Without Sigmoid')\n",
        "\n",
        "plt.show()"
      ],
      "metadata": {
        "colab": {
          "base_uri": "https://localhost:8080/",
          "height": 390
        },
        "id": "LA-dBBHnDP-x",
        "outputId": "098e3665-7de4-4864-aa68-ecda3bf75fdc"
      },
      "execution_count": null,
      "outputs": [
        {
          "output_type": "display_data",
          "data": {
            "text/plain": [
              "<Figure size 864x432 with 2 Axes>"
            ],
            "image/png": "[encoded data removed]"
          },
          "metadata": {
            "needs_background": "light"
          }
        }
      ]
    },
    {
      "cell_type": "markdown",
      "source": [
        "### Binary clasification model metrics"
      ],
      "metadata": {
        "id": "yg9b66iT1vHT"
      }
    },
    {
      "cell_type": "code",
      "source": [
        "y_hat = model_probs >= 0.5\n",
        "\n",
        "# Confusion matrix\n",
        "cm = confusion_matrix(y_val, y_hat)\n",
        "print('Confusion matrix')\n",
        "print(cm)\n",
        "\n",
        "# True negative, false positive, false negative and true positive\n",
        "tn, fp, fn, tp = cm.reshape(-1)\n",
        "\n",
        "# True positive rate or recall\n",
        "tpr = tp / (tp + fn)\n",
        "recall = recall_score(y_val, y_hat)\n",
        "print(f'tpr: {tpr} | recall: {recall}')\n",
        "\n",
        "# False positive rate or specifity\n",
        "fpr = fp / (fp + tn)\n",
        "print(f'fpr: {fpr}')\n",
        "\n",
        "# Precision\n",
        "sk_prec = precision_score(y_val, y_hat)\n",
        "prec = tp / (tp + fp)\n",
        "print(f'Precision calculated: {prec} | sklearn: {sk_prec}')\n",
        "\n",
        "# Accuracy\n",
        "sk_accur = accuracy_score(y_val, y_hat)\n",
        "accur = (tp + tn) / (tp + tn + fp + fn)\n",
        "print(f'Accuracy calculated: {accur} | sklearn: {sk_accur}')"
      ],
      "metadata": {
        "colab": {
          "base_uri": "https://localhost:8080/"
        },
        "id": "AC6UwSu0vnxb",
        "outputId": "79cd28ad-f968-4456-ebce-a0119e15b6ac"
      },
      "execution_count": null,
      "outputs": [
        {
          "output_type": "stream",
          "name": "stdout",
          "text": [
            "Confusion matrix\n",
            "[[38  5]\n",
            " [ 7 50]]\n",
            "tpr: 0.8771929824561403 | recall: 0.8771929824561403\n",
            "fpr: 0.11627906976744186\n",
            "Precision calculated: 0.9090909090909091 | sklearn: 0.9090909090909091\n",
            "Accuracy calculated: 0.88 | sklearn: 0.88\n"
          ]
        }
      ]
    },
    {
      "cell_type": "markdown",
      "source": [
        "### Graphs to compare models"
      ],
      "metadata": {
        "id": "A_DGGoOBAomT"
      }
    },
    {
      "cell_type": "code",
      "source": [
        "fpr, tpr, _ = roc_curve(y_val, y_hat)\n",
        "au_roc = auc(fpr, tpr)\n",
        "print(f'Area Under the Curve: {au_roc}')\n",
        "\n",
        "pr_precision, pr_recall, _ = precision_recall_curve(y_val, y_hat)\n",
        "au_pr = auc(pr_recall, pr_precision)\n",
        "print(f'Area Under the Curve: {au_pr}')\n",
        "\n",
        "figure, axis = plt.subplots(1, 2, figsize=(12,4))\n",
        "\n",
        "axis[0].plot(fpr, tpr, color='darkblue')\n",
        "axis[0].set_xlabel('False positive rate')\n",
        "axis[0].set_ylabel('True positive rate')\n",
        "axis[0].set_title('ROC curve')\n",
        "\n",
        "axis[1].plot(pr_recall, pr_precision, color='darkgreen')\n",
        "axis[1].set_xlabel('Recall')\n",
        "axis[1].set_ylabel('Precision')\n",
        "axis[1].set_title('Precision Recall Curve')\n",
        "\n",
        "plt.show()"
      ],
      "metadata": {
        "colab": {
          "base_uri": "https://localhost:8080/",
          "height": 330
        },
        "id": "LT94hftm60AJ",
        "outputId": "c70e893a-9e88-45ca-f74d-4a9e37ac0dc3"
      },
      "execution_count": null,
      "outputs": [
        {
          "output_type": "stream",
          "name": "stdout",
          "text": [
            "Area Under the Curve: 0.8804569563443493\n",
            "Area Under the Curve: 0.9281419457735248\n"
          ]
        },
        {
          "output_type": "display_data",
          "data": {
            "text/plain": [
              "<Figure size 864x288 with 2 Axes>"
            ],
            "image/png": "[encoded data removed]"
          },
          "metadata": {
            "needs_background": "light"
          }
        }
      ]
    },
    {
      "cell_type": "code",
      "source": [
        ""
      ],
      "metadata": {
        "id": "PSGWDvgzZYx-"
      },
      "execution_count": null,
      "outputs": []
    }
  ]
}